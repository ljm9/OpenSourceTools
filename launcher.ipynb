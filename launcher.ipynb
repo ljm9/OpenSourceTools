{
 "cells": [
  {
   "cell_type": "code",
   "execution_count": 10,
   "metadata": {},
   "outputs": [
    {
     "name": "stdout",
     "output_type": "stream",
     "text": [
      "2021-02-19 14:31:11.848065\n",
      "./test.csv\n",
      "\n",
      "2021-02-19 14:31:11.848296\n",
      "File path is:  /vsis3/eco-w1/in1/rapv2_cog/vegetation-cover-v2-2019.tif\n",
      "Extent is:        116045 86299\n",
      "Column name is:  vegetation-cover-v2-2019\n",
      "\n",
      "\n",
      "2021-02-19 14:31:12.417600\n",
      "File path is:  /vsis3/eco-w1/in1/Cflux_Cog/CONUS_dem_cog.tif\n",
      "Extent is:        204254 95543\n",
      "Column name is:  CONUS_dem_cog\n",
      "\n",
      "\n",
      "2021-02-19 14:31:12.881284\n",
      "File path is:  /vsis3/eco-w1/in1/Cflux_Cog/CONUS_aspect_cog.tif\n",
      "Extent is:        204254 95543\n",
      "Column name is:  CONUS_aspect_cog\n",
      "\n",
      "\n",
      "2021-02-19 14:31:13.093311\n",
      "File path is:  /vsis3/eco-w1/in1/Cflux_Cog/CONUS_slope_cog.tif\n",
      "Extent is:        204254 95543\n",
      "Column name is:  CONUS_slope_cog\n",
      "\n",
      "\n",
      "2021-02-19 14:31:13.442911\n",
      "File path is:  /vsis3/eco-w1/in1/Cflux_Cog/compound_topographic_index_cog.tif\n",
      "Extent is:        192118 88260\n",
      "Column name is:  compound_topographic_index_cog\n",
      "\n",
      "\n",
      "2021-02-19 14:31:13.688511\n",
      "File path is:  /vsis3/eco-w1/in1/Cflux_Cog/NED_PADR_CONUS.tif\n",
      "Extent is:        218182 90950\n",
      "Column name is:  NED_PADR_CONUS\n",
      "\n",
      "\n",
      "2021-02-19 14:31:14.208224\n",
      "File path is:  /vsis3/eco-w1/in1/Cflux_Cog/awc_0_30_cm_weighted_mean_cog.tif\n",
      "Extent is:        96424 40572\n",
      "Column name is:  awc_0_30_cm_weighted_mean_cog\n",
      "\n",
      "\n",
      "2021-02-19 14:31:14.478422\n",
      "File path is:  /vsis3/eco-w1/in1/Cflux_Cog/clay_0_30_cm_weighted_mean_cog.tif\n",
      "Extent is:        96424 40572\n",
      "Column name is:  clay_0_30_cm_weighted_mean_cog\n",
      "\n",
      "\n",
      "2021-02-19 14:31:14.765473\n",
      "File path is:  /vsis3/eco-w1/in1/Cflux_Cog/sand_0_30_cm_weighted_mean_cog.tif\n",
      "Extent is:        96424 40572\n",
      "Column name is:  sand_0_30_cm_weighted_mean_cog\n",
      "\n",
      "\n",
      "2021-02-19 14:31:15.104924\n",
      "File path is:  /vsis3/eco-w1/in1/Cflux_Cog/silt_0_30_cm_weighted_mean_cog.tif\n",
      "Extent is:        96424 40572\n",
      "Column name is:  silt_0_30_cm_weighted_mean_cog\n",
      "\n",
      "\n",
      "2021-02-19 14:31:15.355253\n",
      "File path is:  /vsis3/eco-w1/in1/Cflux_Cog/som_0_30_cm_weighted_mean_cog.tif\n",
      "Extent is:        96424 40572\n",
      "Column name is:  som_0_30_cm_weighted_mean_cog\n",
      "\n",
      "\n",
      "2021-02-19 14:31:15.631524\n",
      "File path is:  /vsis3/eco-w1/in1/Cflux_Cog/tmean_30yr_cog.tif\n",
      "Extent is:        24029 11220\n",
      "Column name is:  tmean_30yr_cog\n",
      "\n",
      "\n",
      "2021-02-19 14:31:15.729138\n",
      "File path is:  /vsis3/eco-w1/in1/Cflux_Cog/ppt_30yr_cog.tif\n",
      "Extent is:        24029 11220\n",
      "Column name is:  ppt_30yr_cog\n",
      "\n",
      "\n",
      "2021-02-19 14:31:15.887422\n",
      "File path is:  /vsis3/eco-w1/in1/Cflux_Cog/TPI_300m_cog.tif\n",
      "Extent is:        99727 97161\n",
      "Column name is:  TPI_300m_cog\n",
      "\n",
      "\n",
      "2021-02-19 14:31:16.302331\n",
      "File path is:  /vsis3/eco-w1/in1/Cflux_Cog/TPI_2000m_cog.tif\n",
      "Extent is:        99727 97161\n",
      "Column name is:  TPI_2000m_cog\n",
      "\n",
      "\n",
      "0:00:04.792622\n"
     ]
    }
   ],
   "source": [
    "!python3 ./ExtractData.py"
   ]
  },
  {
   "cell_type": "code",
   "execution_count": 5,
   "metadata": {},
   "outputs": [
    {
     "name": "stdout",
     "output_type": "stream",
     "text": [
      "Traceback (most recent call last):\r\n",
      "  File \"/opt/tljh/user/lib/python3.7/runpy.py\", line 193, in _run_module_as_main\r\n",
      "    \"__main__\", mod_spec)\r\n",
      "  File \"/opt/tljh/user/lib/python3.7/runpy.py\", line 85, in _run_code\r\n",
      "    exec(code, run_globals)\r\n",
      "  File \"/home/jupyter-megard/.local/lib/python3.7/site-packages/memory_profiler.py\", line 1303, in <module>\r\n",
      "    exec_with_profiler(script_filename, prof, args.backend, script_args)\r\n",
      "  File \"/home/jupyter-megard/.local/lib/python3.7/site-packages/memory_profiler.py\", line 1204, in exec_with_profiler\r\n",
      "    exec(compile(f.read(), filename, 'exec'), ns, ns)\r\n",
      "  File \"./ExtractData.py\", line 128\r\n",
      "    for file in List:\r\n",
      "      ^\r\n",
      "SyntaxError: invalid syntax\r\n"
     ]
    }
   ],
   "source": [
    "#!python3 -m memory_profiler ./ExtractData.py"
   ]
  },
  {
   "cell_type": "code",
   "execution_count": null,
   "metadata": {},
   "outputs": [],
   "source": []
  }
 ],
 "metadata": {
  "kernelspec": {
   "display_name": "Python 3",
   "language": "python",
   "name": "python3"
  },
  "language_info": {
   "codemirror_mode": {
    "name": "ipython",
    "version": 3
   },
   "file_extension": ".py",
   "mimetype": "text/x-python",
   "name": "python",
   "nbconvert_exporter": "python",
   "pygments_lexer": "ipython3",
   "version": "3.7.9"
  }
 },
 "nbformat": 4,
 "nbformat_minor": 4
}
